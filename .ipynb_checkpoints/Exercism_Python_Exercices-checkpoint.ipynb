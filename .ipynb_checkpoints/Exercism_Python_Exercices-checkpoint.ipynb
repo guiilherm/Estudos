{
 "cells": [
  {
   "cell_type": "markdown",
   "id": "b7c2e9d8-429e-40f7-9473-0ca7809177a1",
   "metadata": {
    "jp-MarkdownHeadingCollapsed": true,
    "tags": []
   },
   "source": [
    "### Little Sister's Vocabulary - Strings - Solved"
   ]
  },
  {
   "cell_type": "code",
   "execution_count": 2,
   "id": "948cf813-6838-43ec-bc65-d759e5da4605",
   "metadata": {},
   "outputs": [],
   "source": [
    "#task 1\n",
    "def add_prefix_un(word):\n",
    "    \"\"\"\n",
    "\n",
    "    :param word: str of a root word\n",
    "    :return:  str of root word with un prefix\n",
    "\n",
    "    This function takes `word` as a parameter and\n",
    "    returns a new word with an 'un' prefix.\n",
    "    \"\"\"\n",
    "\n",
    "    return 'un'+word"
   ]
  },
  {
   "cell_type": "code",
   "execution_count": 3,
   "id": "d6dc557b-8c3d-477c-9297-4d79def1020e",
   "metadata": {},
   "outputs": [
    {
     "data": {
      "text/plain": [
       "'unhappy'"
      ]
     },
     "execution_count": 3,
     "metadata": {},
     "output_type": "execute_result"
    }
   ],
   "source": [
    "add_prefix_un('happy')"
   ]
  },
  {
   "cell_type": "code",
   "execution_count": 53,
   "id": "fadfa11d-ce8d-4fc9-b4d3-fd42542e8ecb",
   "metadata": {
    "tags": []
   },
   "outputs": [],
   "source": [
    "#task 2\n",
    "#make_word_groups(['en', 'close', 'joy', 'lighten'])\n",
    "#'en :: enclose :: enjoy :: enlighten'\n",
    "\n",
    "def make_word_groups(vocab_words):\n",
    "    \"\"\"\n",
    "\n",
    "    :param vocab_words: list of vocabulary words with a prefix.\n",
    "    :return: str of prefix followed by vocabulary words with\n",
    "             prefix applied, separated by ' :: '.\n",
    "\n",
    "    This function takes a `vocab_words` list and returns a string\n",
    "    with the prefix  and the words with prefix applied, separated\n",
    "     by ' :: '.\n",
    "    \"\"\"\n",
    "    prefix = vocab_words[0]\n",
    "    return prefix + ' :: ' + ' :: '.join(prefix + x for x in vocab_words[1:])"
   ]
  },
  {
   "cell_type": "code",
   "execution_count": 54,
   "id": "2c6eaf66-204a-4649-805e-9586f0bb97d9",
   "metadata": {},
   "outputs": [
    {
     "data": {
      "text/plain": [
       "'en :: enclose :: enjoy :: enlighten'"
      ]
     },
     "execution_count": 54,
     "metadata": {},
     "output_type": "execute_result"
    }
   ],
   "source": [
    "make_word_groups(['en', 'close', 'joy', 'lighten'])"
   ]
  },
  {
   "cell_type": "code",
   "execution_count": null,
   "id": "83f24bb0-d899-409e-ae9f-459ad8d6670e",
   "metadata": {},
   "outputs": [],
   "source": [
    "#task3\n",
    "def remove_suffix_ness(word):\n",
    "    \"\"\"\n",
    "\n",
    "    :param word: str of word to remove suffix from.\n",
    "    :return: str of word with suffix removed & spelling adjusted.\n",
    "\n",
    "    This function takes in a word and returns the base word with `ness` removed.\n",
    "    \"\"\"\n",
    "\n",
    "    base = word[:-4]\n",
    "    if base[-1] == 'i':\n",
    "        return base[:1]+'y'\n",
    "    return base"
   ]
  },
  {
   "cell_type": "code",
   "execution_count": 55,
   "id": "3b7b7836-fee1-4b8f-821c-810e0cdbe61e",
   "metadata": {},
   "outputs": [],
   "source": [
    "#task4\n",
    "def noun_to_verb(sentence, index):\n",
    "    '''\n",
    " \n",
    "    :param sentence: str that uses the word in sentence\n",
    "    :param index:  index of the word to remove and transform\n",
    "    :return:  str word that changes the extracted adjective to a verb.\n",
    " \n",
    "    A function takes a `sentence` using the\n",
    "    vocabulary word, and the `index` of the word once that sentence\n",
    "    is split apart.  The function should return the extracted\n",
    "    adjective as a verb.\n",
    "    '''\n",
    "    return sentence.split()[index].rstrip(punctuation+whitespace) + \"en\""
   ]
  },
  {
   "cell_type": "markdown",
   "id": "b6686019-7038-4436-b53f-fb1fec464793",
   "metadata": {
    "jp-MarkdownHeadingCollapsed": true,
    "tags": []
   },
   "source": [
    "### Darts - Numbers - Solved"
   ]
  },
  {
   "cell_type": "code",
   "execution_count": 36,
   "id": "597e4498-61b5-4b26-ae8f-2d762a4ad16a",
   "metadata": {},
   "outputs": [],
   "source": [
    "#circulo externo raio de 10 uni\n",
    "#circulo meio raio de 5 uni\n",
    "#circulo interno raio 1uni\n",
    "\n",
    "def score(x, y):\n",
    "    distance = (x**2 + y**2)**(1/2)\n",
    "    \n",
    "    if distance > 10:\n",
    "        return 0\n",
    "    elif distance <=10 and distance > 5:\n",
    "        return 1\n",
    "    elif distance <=5 and distance > 1:\n",
    "        return 5\n",
    "    else:\n",
    "        return 10"
   ]
  },
  {
   "cell_type": "markdown",
   "id": "3feaa305-7cd7-4b2f-9652-445c5ea1c2b5",
   "metadata": {},
   "source": [
    "### Card Games - Lists"
   ]
  },
  {
   "cell_type": "code",
   "execution_count": 58,
   "id": "ee0dc05f-03dd-4ec0-ad9d-056f0d33dbd9",
   "metadata": {},
   "outputs": [],
   "source": [
    "#task2\n",
    "def get_rounds(number):\n",
    "    \"\"\"\n",
    "\n",
    "     :param number: int - current round number.\n",
    "     :return: list - current round and the two that follow.\n",
    "    \"\"\"\n",
    "\n",
    "    return [number,number+1,number+2]"
   ]
  },
  {
   "cell_type": "code",
   "execution_count": 59,
   "id": "3f0f635d-82f2-4d71-8013-40f91b9069cb",
   "metadata": {},
   "outputs": [
    {
     "data": {
      "text/plain": [
       "[27, 28, 29]"
      ]
     },
     "execution_count": 59,
     "metadata": {},
     "output_type": "execute_result"
    }
   ],
   "source": [
    "get_rounds(27)"
   ]
  },
  {
   "cell_type": "code",
   "execution_count": 66,
   "id": "9d727b3c-08ef-47c1-b5e4-a2799ea182e7",
   "metadata": {},
   "outputs": [],
   "source": [
    "#task3\n",
    "def concatenate_rounds(rounds_1, rounds_2):\n",
    "    \"\"\"\n",
    "\n",
    "    :param rounds_1: list - first rounds played.\n",
    "    :param rounds_2: list - second set of rounds played.\n",
    "    :return: list - all rounds played.\n",
    "    \"\"\"\n",
    "\n",
    "    return rounds_1+rounds_2"
   ]
  },
  {
   "cell_type": "code",
   "execution_count": 67,
   "id": "a5e561b2-9eca-436d-be88-d605912b6f99",
   "metadata": {},
   "outputs": [
    {
     "data": {
      "text/plain": [
       "[27, 28, 29, 35, 36]"
      ]
     },
     "execution_count": 67,
     "metadata": {},
     "output_type": "execute_result"
    }
   ],
   "source": [
    "concatenate_rounds([27, 28, 29], [35, 36])"
   ]
  },
  {
   "cell_type": "code",
   "execution_count": null,
   "id": "b407de90-f2cc-4235-a4cc-1f166520c99c",
   "metadata": {},
   "outputs": [],
   "source": []
  }
 ],
 "metadata": {
  "kernelspec": {
   "display_name": "Python 3 (ipykernel)",
   "language": "python",
   "name": "python3"
  },
  "language_info": {
   "codemirror_mode": {
    "name": "ipython",
    "version": 3
   },
   "file_extension": ".py",
   "mimetype": "text/x-python",
   "name": "python",
   "nbconvert_exporter": "python",
   "pygments_lexer": "ipython3",
   "version": "3.9.6"
  }
 },
 "nbformat": 4,
 "nbformat_minor": 5
}
