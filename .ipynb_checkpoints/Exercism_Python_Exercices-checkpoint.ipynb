{
 "cells": [
  {
   "cell_type": "markdown",
   "id": "b7c2e9d8-429e-40f7-9473-0ca7809177a1",
   "metadata": {
    "jp-MarkdownHeadingCollapsed": true,
    "tags": []
   },
   "source": [
    "### Little Sister's Vocabulary - Strings - Solved"
   ]
  },
  {
   "cell_type": "code",
   "execution_count": 2,
   "id": "948cf813-6838-43ec-bc65-d759e5da4605",
   "metadata": {},
   "outputs": [],
   "source": [
    "#task 1\n",
    "def add_prefix_un(word):\n",
    "    \"\"\"\n",
    "\n",
    "    :param word: str of a root word\n",
    "    :return:  str of root word with un prefix\n",
    "\n",
    "    This function takes `word` as a parameter and\n",
    "    returns a new word with an 'un' prefix.\n",
    "    \"\"\"\n",
    "\n",
    "    return 'un'+word"
   ]
  },
  {
   "cell_type": "code",
   "execution_count": 3,
   "id": "d6dc557b-8c3d-477c-9297-4d79def1020e",
   "metadata": {},
   "outputs": [
    {
     "data": {
      "text/plain": [
       "'unhappy'"
      ]
     },
     "execution_count": 3,
     "metadata": {},
     "output_type": "execute_result"
    }
   ],
   "source": [
    "add_prefix_un('happy')"
   ]
  },
  {
   "cell_type": "code",
   "execution_count": 53,
   "id": "fadfa11d-ce8d-4fc9-b4d3-fd42542e8ecb",
   "metadata": {
    "tags": []
   },
   "outputs": [],
   "source": [
    "#task 2\n",
    "#make_word_groups(['en', 'close', 'joy', 'lighten'])\n",
    "#'en :: enclose :: enjoy :: enlighten'\n",
    "\n",
    "def make_word_groups(vocab_words):\n",
    "    \"\"\"\n",
    "\n",
    "    :param vocab_words: list of vocabulary words with a prefix.\n",
    "    :return: str of prefix followed by vocabulary words with\n",
    "             prefix applied, separated by ' :: '.\n",
    "\n",
    "    This function takes a `vocab_words` list and returns a string\n",
    "    with the prefix  and the words with prefix applied, separated\n",
    "     by ' :: '.\n",
    "    \"\"\"\n",
    "    prefix = vocab_words[0]\n",
    "    return prefix + ' :: ' + ' :: '.join(prefix + x for x in vocab_words[1:])"
   ]
  },
  {
   "cell_type": "code",
   "execution_count": 54,
   "id": "2c6eaf66-204a-4649-805e-9586f0bb97d9",
   "metadata": {},
   "outputs": [
    {
     "data": {
      "text/plain": [
       "'en :: enclose :: enjoy :: enlighten'"
      ]
     },
     "execution_count": 54,
     "metadata": {},
     "output_type": "execute_result"
    }
   ],
   "source": [
    "make_word_groups(['en', 'close', 'joy', 'lighten'])"
   ]
  },
  {
   "cell_type": "code",
   "execution_count": null,
   "id": "83f24bb0-d899-409e-ae9f-459ad8d6670e",
   "metadata": {},
   "outputs": [],
   "source": [
    "#task3\n",
    "def remove_suffix_ness(word):\n",
    "    \"\"\"\n",
    "\n",
    "    :param word: str of word to remove suffix from.\n",
    "    :return: str of word with suffix removed & spelling adjusted.\n",
    "\n",
    "    This function takes in a word and returns the base word with `ness` removed.\n",
    "    \"\"\"\n",
    "\n",
    "    base = word[:-4]\n",
    "    if base[-1] == 'i':\n",
    "        return base[:1]+'y'\n",
    "    return base"
   ]
  },
  {
   "cell_type": "code",
   "execution_count": 55,
   "id": "3b7b7836-fee1-4b8f-821c-810e0cdbe61e",
   "metadata": {},
   "outputs": [],
   "source": [
    "#task4\n",
    "def noun_to_verb(sentence, index):\n",
    "    '''\n",
    " \n",
    "    :param sentence: str that uses the word in sentence\n",
    "    :param index:  index of the word to remove and transform\n",
    "    :return:  str word that changes the extracted adjective to a verb.\n",
    " \n",
    "    A function takes a `sentence` using the\n",
    "    vocabulary word, and the `index` of the word once that sentence\n",
    "    is split apart.  The function should return the extracted\n",
    "    adjective as a verb.\n",
    "    '''\n",
    "    return sentence.split()[index].rstrip(punctuation+whitespace) + \"en\""
   ]
  },
  {
   "cell_type": "markdown",
   "id": "b6686019-7038-4436-b53f-fb1fec464793",
   "metadata": {
    "jp-MarkdownHeadingCollapsed": true,
    "tags": []
   },
   "source": [
    "### Darts - Numbers - Solved"
   ]
  },
  {
   "cell_type": "code",
   "execution_count": 36,
   "id": "597e4498-61b5-4b26-ae8f-2d762a4ad16a",
   "metadata": {},
   "outputs": [],
   "source": [
    "#circulo externo raio de 10 uni\n",
    "#circulo meio raio de 5 uni\n",
    "#circulo interno raio 1uni\n",
    "\n",
    "def score(x, y):\n",
    "    distance = (x**2 + y**2)**(1/2)\n",
    "    \n",
    "    if distance > 10:\n",
    "        return 0\n",
    "    elif distance <=10 and distance > 5:\n",
    "        return 1\n",
    "    elif distance <=5 and distance > 1:\n",
    "        return 5\n",
    "    else:\n",
    "        return 10"
   ]
  },
  {
   "cell_type": "markdown",
   "id": "3feaa305-7cd7-4b2f-9652-445c5ea1c2b5",
   "metadata": {
    "jp-MarkdownHeadingCollapsed": true,
    "tags": []
   },
   "source": [
    "### Card Games - Lists - Solved"
   ]
  },
  {
   "cell_type": "code",
   "execution_count": 68,
   "id": "ee0dc05f-03dd-4ec0-ad9d-056f0d33dbd9",
   "metadata": {},
   "outputs": [],
   "source": [
    "#task2\n",
    "def get_rounds(number):\n",
    "    \"\"\"\n",
    "\n",
    "     :param number: int - current round number.\n",
    "     :return: list - current round and the two that follow.\n",
    "    \"\"\"\n",
    "\n",
    "    return [number,number+1,number+2]"
   ]
  },
  {
   "cell_type": "code",
   "execution_count": 69,
   "id": "3f0f635d-82f2-4d71-8013-40f91b9069cb",
   "metadata": {},
   "outputs": [
    {
     "data": {
      "text/plain": [
       "[27, 28, 29]"
      ]
     },
     "execution_count": 69,
     "metadata": {},
     "output_type": "execute_result"
    }
   ],
   "source": [
    "get_rounds(27)"
   ]
  },
  {
   "cell_type": "code",
   "execution_count": 70,
   "id": "9d727b3c-08ef-47c1-b5e4-a2799ea182e7",
   "metadata": {},
   "outputs": [],
   "source": [
    "#task3\n",
    "def concatenate_rounds(rounds_1, rounds_2):\n",
    "    \"\"\"\n",
    "\n",
    "    :param rounds_1: list - first rounds played.\n",
    "    :param rounds_2: list - second set of rounds played.\n",
    "    :return: list - all rounds played.\n",
    "    \"\"\"\n",
    "\n",
    "    return rounds_1+rounds_2"
   ]
  },
  {
   "cell_type": "code",
   "execution_count": 71,
   "id": "a5e561b2-9eca-436d-be88-d605912b6f99",
   "metadata": {},
   "outputs": [
    {
     "data": {
      "text/plain": [
       "[27, 28, 29, 35, 36]"
      ]
     },
     "execution_count": 71,
     "metadata": {},
     "output_type": "execute_result"
    }
   ],
   "source": [
    "concatenate_rounds([27, 28, 29], [35, 36])"
   ]
  },
  {
   "cell_type": "code",
   "execution_count": 72,
   "id": "b407de90-f2cc-4235-a4cc-1f166520c99c",
   "metadata": {},
   "outputs": [],
   "source": [
    "#task 4\n",
    "def list_contains_round(rounds, number):\n",
    "    \"\"\"\n",
    "\n",
    "    :param rounds: list - rounds played.\n",
    "    :param number: int - round number.\n",
    "    :return:  bool - was the round played?\n",
    "    \"\"\"\n",
    "\n",
    "    if number in rounds:\n",
    "        return True\n",
    "    else:\n",
    "        return False"
   ]
  },
  {
   "cell_type": "code",
   "execution_count": 73,
   "id": "cb58b324-8524-411a-911d-57579e21632c",
   "metadata": {},
   "outputs": [
    {
     "data": {
      "text/plain": [
       "True"
      ]
     },
     "execution_count": 73,
     "metadata": {},
     "output_type": "execute_result"
    }
   ],
   "source": [
    "list_contains_round([27, 28, 29, 35, 36], 29)"
   ]
  },
  {
   "cell_type": "code",
   "execution_count": 78,
   "id": "2b3388cc-f328-4fef-97c6-7638c6f39c80",
   "metadata": {},
   "outputs": [],
   "source": [
    "#task 5\n",
    "def card_average(hand):\n",
    "    \"\"\"\n",
    "\n",
    "    :param hand: list - cards in hand.\n",
    "    :return:  float - average value of the cards in the hand.\n",
    "    \"\"\"\n",
    "    total_sum=0\n",
    "    for i in hand:\n",
    "        total_sum += i\n",
    "    return total_sum/len(hand)"
   ]
  },
  {
   "cell_type": "code",
   "execution_count": 79,
   "id": "851cfd14-bd20-41a4-a5c0-9381af2a3868",
   "metadata": {},
   "outputs": [
    {
     "data": {
      "text/plain": [
       "6.0"
      ]
     },
     "execution_count": 79,
     "metadata": {},
     "output_type": "execute_result"
    }
   ],
   "source": [
    "card_average([5, 6, 7])"
   ]
  },
  {
   "cell_type": "code",
   "execution_count": 80,
   "id": "fb45aa6b-cd18-4228-99ac-6c334f9e1cc5",
   "metadata": {},
   "outputs": [],
   "source": [
    "#task 6\n",
    "def approx_average_is_average(hand):\n",
    "    \"\"\"\n",
    "\n",
    "    :param hand: list - cards in hand.\n",
    "    :return: bool - is approximate average the same as true average?\n",
    "    \"\"\"\n",
    "    mean_first_last = (hand[0] + hand[-1])/2\n",
    "    if card_average(hand) == mean_first_last:\n",
    "        return True\n",
    "    else:\n",
    "        return False"
   ]
  },
  {
   "cell_type": "code",
   "execution_count": 82,
   "id": "63c92950-f933-454c-a3e6-7aea90258d53",
   "metadata": {},
   "outputs": [
    {
     "data": {
      "text/plain": [
       "False"
      ]
     },
     "execution_count": 82,
     "metadata": {},
     "output_type": "execute_result"
    }
   ],
   "source": [
    "approx_average_is_average([1, 2, 3, 5, 9])"
   ]
  },
  {
   "cell_type": "code",
   "execution_count": 98,
   "id": "5b5bad18-9ffb-49f1-b8af-c4e3d78bae6a",
   "metadata": {},
   "outputs": [],
   "source": [
    "#task 7\n",
    "def average_even_is_average_odd(hand):\n",
    "    \"\"\"\n",
    "\n",
    "    :param hand: list - cards in hand.\n",
    "    :return: bool - are even and odd averages equal?\n",
    "    \"\"\"\n",
    "    even_list = []\n",
    "    odd_list = []\n",
    "    for i in range(len(hand)):\n",
    "        if i % 2 == 0:\n",
    "            even_list.append(hand[i])\n",
    "        else:\n",
    "            odd_list.append(hand[i])\n",
    "            \n",
    "    if card_average(even_list) == card_average(odd_list):\n",
    "        return True\n",
    "    else:\n",
    "        return False"
   ]
  },
  {
   "cell_type": "code",
   "execution_count": 99,
   "id": "93b0bd3a-50f7-4723-9c5c-34822e633308",
   "metadata": {},
   "outputs": [
    {
     "data": {
      "text/plain": [
       "True"
      ]
     },
     "execution_count": 99,
     "metadata": {},
     "output_type": "execute_result"
    }
   ],
   "source": [
    "average_even_is_average_odd([1, 2, 3])"
   ]
  },
  {
   "cell_type": "code",
   "execution_count": 100,
   "id": "0923504c-1683-461e-9bd5-ad0382a3d72b",
   "metadata": {},
   "outputs": [],
   "source": [
    "#task 8\n",
    "def maybe_double_last(hand):\n",
    "    \"\"\"\n",
    "\n",
    "    :param hand: list - cards in hand.\n",
    "    :return: list - hand with Jacks (if present) value doubled.\n",
    "    \"\"\"\n",
    "\n",
    "    if hand[-1] == 11:\n",
    "        hand[-1] = hand[-1]*2\n",
    "    \n",
    "    return hand"
   ]
  },
  {
   "cell_type": "code",
   "execution_count": 101,
   "id": "e7c34e85-4bae-433d-a88a-18c810c07c54",
   "metadata": {},
   "outputs": [
    {
     "data": {
      "text/plain": [
       "[5, 9, 22]"
      ]
     },
     "execution_count": 101,
     "metadata": {},
     "output_type": "execute_result"
    }
   ],
   "source": [
    "hand = [5, 9, 11]\n",
    "maybe_double_last(hand)"
   ]
  },
  {
   "cell_type": "markdown",
   "id": "85f3a158-1b48-4342-9237-6287afcdd85a",
   "metadata": {
    "jp-MarkdownHeadingCollapsed": true,
    "tags": []
   },
   "source": [
    "### Resistor Color - List - Solved"
   ]
  },
  {
   "cell_type": "code",
   "execution_count": null,
   "id": "c666cab2-e3cc-4f32-b586-46fd77c10427",
   "metadata": {},
   "outputs": [],
   "source": [
    "def color_code(color):\n",
    "    colors_list = colors()\n",
    "    return colors_list.index(color)\n",
    "\n",
    "\n",
    "def colors():\n",
    "    return [\n",
    "        \"black\",\n",
    "        \"brown\",\n",
    "        \"red\",\n",
    "        \"orange\",\n",
    "        \"yellow\",\n",
    "        \"green\",\n",
    "        \"blue\",\n",
    "        \"violet\",\n",
    "        \"grey\",\n",
    "        \"white\"\n",
    "    ]"
   ]
  },
  {
   "cell_type": "markdown",
   "id": "81fc931b-b5cf-49b1-9cd9-bea0eb10cd5f",
   "metadata": {
    "jp-MarkdownHeadingCollapsed": true,
    "tags": []
   },
   "source": [
    "### Little Sister's Essay - Strings"
   ]
  },
  {
   "cell_type": "code",
   "execution_count": 3,
   "id": "b98e3916-5ee4-4b83-aedc-e5fd60017031",
   "metadata": {},
   "outputs": [],
   "source": [
    "#task 1\n",
    "def capitalize_title(title):\n",
    "    \"\"\"\n",
    "\n",
    "    :param title: str title string that needs title casing\n",
    "    :return:  str title string in title case (first letters capitalized)\n",
    "    \"\"\"\n",
    "    return title.title()\n",
    "    "
   ]
  },
  {
   "cell_type": "code",
   "execution_count": 4,
   "id": "c16e7e95-b194-4daa-90e2-96d4681177df",
   "metadata": {},
   "outputs": [
    {
     "data": {
      "text/plain": [
       "'My Hobbies'"
      ]
     },
     "execution_count": 4,
     "metadata": {},
     "output_type": "execute_result"
    }
   ],
   "source": [
    "capitalize_title(\"my hobbies\")"
   ]
  },
  {
   "cell_type": "code",
   "execution_count": 9,
   "id": "5eca1335-2bea-49fc-ab5a-f2092b555818",
   "metadata": {},
   "outputs": [],
   "source": [
    "#task 2\n",
    "def check_sentence_ending(sentence):\n",
    "    \"\"\"\n",
    "\n",
    "    :param sentence: str a sentence to check.\n",
    "    :return:  bool True if punctuated correctly with period, False otherwise.\n",
    "    \"\"\"\n",
    "\n",
    "    return sentence.endswith('.')"
   ]
  },
  {
   "cell_type": "code",
   "execution_count": 10,
   "id": "699608be-c4cd-4639-877d-f12e8cbf53ab",
   "metadata": {},
   "outputs": [
    {
     "data": {
      "text/plain": [
       "True"
      ]
     },
     "execution_count": 10,
     "metadata": {},
     "output_type": "execute_result"
    }
   ],
   "source": [
    "check_sentence_ending(\"I like to hike, bake, and read.\")"
   ]
  },
  {
   "cell_type": "code",
   "execution_count": 13,
   "id": "d0c5913a-e52e-4fc5-81f1-33b1bf1a4977",
   "metadata": {},
   "outputs": [],
   "source": [
    "#task3\n",
    "def clean_up_spacing(sentence):\n",
    "    \"\"\"\n",
    "\n",
    "    :param sentence: str a sentence to clean of leading and trailing space characters.\n",
    "    :return: str a sentence that has been cleaned of leading and trailing space characters.\n",
    "    \"\"\"\n",
    "\n",
    "    return sentence.strip(' ')"
   ]
  },
  {
   "cell_type": "code",
   "execution_count": 14,
   "id": "dc521552-f488-4b40-a2e3-3a2f0be6a8dc",
   "metadata": {},
   "outputs": [
    {
     "data": {
      "text/plain": [
       "'I like to go on hikes with my dog.'"
      ]
     },
     "execution_count": 14,
     "metadata": {},
     "output_type": "execute_result"
    }
   ],
   "source": [
    "clean_up_spacing(\" I like to go on hikes with my dog.  \")"
   ]
  },
  {
   "cell_type": "code",
   "execution_count": 15,
   "id": "f1359300-10e9-468a-aaef-ad8dec59fda4",
   "metadata": {},
   "outputs": [],
   "source": [
    "#task 4\n",
    "def replace_word_choice(sentence, old_word, new_word):\n",
    "    \"\"\"\n",
    "\n",
    "    :param sentence: str a sentence to replace words in.\n",
    "    :param new_word: str replacement word\n",
    "    :param old_word: str word to replace\n",
    "    :return:  str input sentence with new words in place of old words\n",
    "    \"\"\"\n",
    "\n",
    "    return sentence.replace(old_word,new_word)"
   ]
  },
  {
   "cell_type": "code",
   "execution_count": 16,
   "id": "1d41b14d-bb21-4ddd-88eb-1eb85cff03d1",
   "metadata": {},
   "outputs": [
    {
     "data": {
      "text/plain": [
       "'I bake amazing cakes.'"
      ]
     },
     "execution_count": 16,
     "metadata": {},
     "output_type": "execute_result"
    }
   ],
   "source": [
    "replace_word_choice(\"I bake good cakes.\", \"good\", \"amazing\")"
   ]
  },
  {
   "cell_type": "markdown",
   "id": "ce336a9b-a1b5-4744-a139-ea0605d5885e",
   "metadata": {},
   "source": [
    "### Bob - Conditional - not solved"
   ]
  }
 ],
 "metadata": {
  "kernelspec": {
   "display_name": "Python 3 (ipykernel)",
   "language": "python",
   "name": "python3"
  },
  "language_info": {
   "codemirror_mode": {
    "name": "ipython",
    "version": 3
   },
   "file_extension": ".py",
   "mimetype": "text/x-python",
   "name": "python",
   "nbconvert_exporter": "python",
   "pygments_lexer": "ipython3",
   "version": "3.9.6"
  }
 },
 "nbformat": 4,
 "nbformat_minor": 5
}
