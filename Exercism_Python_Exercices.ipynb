{
 "cells": [
  {
   "cell_type": "markdown",
   "id": "b7c2e9d8-429e-40f7-9473-0ca7809177a1",
   "metadata": {
    "jp-MarkdownHeadingCollapsed": true,
    "tags": []
   },
   "source": [
    "### Little Sister's Vocabulary - Strings - Solved"
   ]
  },
  {
   "cell_type": "code",
   "execution_count": 2,
   "id": "948cf813-6838-43ec-bc65-d759e5da4605",
   "metadata": {},
   "outputs": [],
   "source": [
    "#task 1\n",
    "def add_prefix_un(word):\n",
    "    \"\"\"\n",
    "\n",
    "    :param word: str of a root word\n",
    "    :return:  str of root word with un prefix\n",
    "\n",
    "    This function takes `word` as a parameter and\n",
    "    returns a new word with an 'un' prefix.\n",
    "    \"\"\"\n",
    "\n",
    "    return 'un'+word"
   ]
  },
  {
   "cell_type": "code",
   "execution_count": 3,
   "id": "d6dc557b-8c3d-477c-9297-4d79def1020e",
   "metadata": {},
   "outputs": [
    {
     "data": {
      "text/plain": [
       "'unhappy'"
      ]
     },
     "execution_count": 3,
     "metadata": {},
     "output_type": "execute_result"
    }
   ],
   "source": [
    "add_prefix_un('happy')"
   ]
  },
  {
   "cell_type": "code",
   "execution_count": 53,
   "id": "fadfa11d-ce8d-4fc9-b4d3-fd42542e8ecb",
   "metadata": {
    "tags": []
   },
   "outputs": [],
   "source": [
    "#task 2\n",
    "#make_word_groups(['en', 'close', 'joy', 'lighten'])\n",
    "#'en :: enclose :: enjoy :: enlighten'\n",
    "\n",
    "def make_word_groups(vocab_words):\n",
    "    \"\"\"\n",
    "\n",
    "    :param vocab_words: list of vocabulary words with a prefix.\n",
    "    :return: str of prefix followed by vocabulary words with\n",
    "             prefix applied, separated by ' :: '.\n",
    "\n",
    "    This function takes a `vocab_words` list and returns a string\n",
    "    with the prefix  and the words with prefix applied, separated\n",
    "     by ' :: '.\n",
    "    \"\"\"\n",
    "    prefix = vocab_words[0]\n",
    "    return prefix + ' :: ' + ' :: '.join(prefix + x for x in vocab_words[1:])"
   ]
  },
  {
   "cell_type": "code",
   "execution_count": 54,
   "id": "2c6eaf66-204a-4649-805e-9586f0bb97d9",
   "metadata": {},
   "outputs": [
    {
     "data": {
      "text/plain": [
       "'en :: enclose :: enjoy :: enlighten'"
      ]
     },
     "execution_count": 54,
     "metadata": {},
     "output_type": "execute_result"
    }
   ],
   "source": [
    "make_word_groups(['en', 'close', 'joy', 'lighten'])"
   ]
  },
  {
   "cell_type": "code",
   "execution_count": null,
   "id": "83f24bb0-d899-409e-ae9f-459ad8d6670e",
   "metadata": {},
   "outputs": [],
   "source": [
    "#task3\n",
    "def remove_suffix_ness(word):\n",
    "    \"\"\"\n",
    "\n",
    "    :param word: str of word to remove suffix from.\n",
    "    :return: str of word with suffix removed & spelling adjusted.\n",
    "\n",
    "    This function takes in a word and returns the base word with `ness` removed.\n",
    "    \"\"\"\n",
    "\n",
    "    base = word[:-4]\n",
    "    if base[-1] == 'i':\n",
    "        return base[:1]+'y'\n",
    "    return base"
   ]
  },
  {
   "cell_type": "code",
   "execution_count": 55,
   "id": "3b7b7836-fee1-4b8f-821c-810e0cdbe61e",
   "metadata": {},
   "outputs": [],
   "source": [
    "#task4\n",
    "def noun_to_verb(sentence, index):\n",
    "    '''\n",
    " \n",
    "    :param sentence: str that uses the word in sentence\n",
    "    :param index:  index of the word to remove and transform\n",
    "    :return:  str word that changes the extracted adjective to a verb.\n",
    " \n",
    "    A function takes a `sentence` using the\n",
    "    vocabulary word, and the `index` of the word once that sentence\n",
    "    is split apart.  The function should return the extracted\n",
    "    adjective as a verb.\n",
    "    '''\n",
    "    return sentence.split()[index].rstrip(punctuation+whitespace) + \"en\""
   ]
  },
  {
   "cell_type": "markdown",
   "id": "b6686019-7038-4436-b53f-fb1fec464793",
   "metadata": {
    "jp-MarkdownHeadingCollapsed": true,
    "tags": []
   },
   "source": [
    "### Darts - Numbers - Solved"
   ]
  },
  {
   "cell_type": "code",
   "execution_count": 36,
   "id": "597e4498-61b5-4b26-ae8f-2d762a4ad16a",
   "metadata": {},
   "outputs": [],
   "source": [
    "#circulo externo raio de 10 uni\n",
    "#circulo meio raio de 5 uni\n",
    "#circulo interno raio 1uni\n",
    "\n",
    "def score(x, y):\n",
    "    distance = (x**2 + y**2)**(1/2)\n",
    "    \n",
    "    if distance > 10:\n",
    "        return 0\n",
    "    elif distance <=10 and distance > 5:\n",
    "        return 1\n",
    "    elif distance <=5 and distance > 1:\n",
    "        return 5\n",
    "    else:\n",
    "        return 10"
   ]
  },
  {
   "cell_type": "markdown",
   "id": "3feaa305-7cd7-4b2f-9652-445c5ea1c2b5",
   "metadata": {
    "jp-MarkdownHeadingCollapsed": true,
    "tags": []
   },
   "source": [
    "### Card Games - Lists - Solved"
   ]
  },
  {
   "cell_type": "code",
   "execution_count": 68,
   "id": "ee0dc05f-03dd-4ec0-ad9d-056f0d33dbd9",
   "metadata": {},
   "outputs": [],
   "source": [
    "#task2\n",
    "def get_rounds(number):\n",
    "    \"\"\"\n",
    "\n",
    "     :param number: int - current round number.\n",
    "     :return: list - current round and the two that follow.\n",
    "    \"\"\"\n",
    "\n",
    "    return [number,number+1,number+2]"
   ]
  },
  {
   "cell_type": "code",
   "execution_count": 69,
   "id": "3f0f635d-82f2-4d71-8013-40f91b9069cb",
   "metadata": {},
   "outputs": [
    {
     "data": {
      "text/plain": [
       "[27, 28, 29]"
      ]
     },
     "execution_count": 69,
     "metadata": {},
     "output_type": "execute_result"
    }
   ],
   "source": [
    "get_rounds(27)"
   ]
  },
  {
   "cell_type": "code",
   "execution_count": 70,
   "id": "9d727b3c-08ef-47c1-b5e4-a2799ea182e7",
   "metadata": {},
   "outputs": [],
   "source": [
    "#task3\n",
    "def concatenate_rounds(rounds_1, rounds_2):\n",
    "    \"\"\"\n",
    "\n",
    "    :param rounds_1: list - first rounds played.\n",
    "    :param rounds_2: list - second set of rounds played.\n",
    "    :return: list - all rounds played.\n",
    "    \"\"\"\n",
    "\n",
    "    return rounds_1+rounds_2"
   ]
  },
  {
   "cell_type": "code",
   "execution_count": 71,
   "id": "a5e561b2-9eca-436d-be88-d605912b6f99",
   "metadata": {},
   "outputs": [
    {
     "data": {
      "text/plain": [
       "[27, 28, 29, 35, 36]"
      ]
     },
     "execution_count": 71,
     "metadata": {},
     "output_type": "execute_result"
    }
   ],
   "source": [
    "concatenate_rounds([27, 28, 29], [35, 36])"
   ]
  },
  {
   "cell_type": "code",
   "execution_count": 72,
   "id": "b407de90-f2cc-4235-a4cc-1f166520c99c",
   "metadata": {},
   "outputs": [],
   "source": [
    "#task 4\n",
    "def list_contains_round(rounds, number):\n",
    "    \"\"\"\n",
    "\n",
    "    :param rounds: list - rounds played.\n",
    "    :param number: int - round number.\n",
    "    :return:  bool - was the round played?\n",
    "    \"\"\"\n",
    "\n",
    "    if number in rounds:\n",
    "        return True\n",
    "    else:\n",
    "        return False"
   ]
  },
  {
   "cell_type": "code",
   "execution_count": 73,
   "id": "cb58b324-8524-411a-911d-57579e21632c",
   "metadata": {},
   "outputs": [
    {
     "data": {
      "text/plain": [
       "True"
      ]
     },
     "execution_count": 73,
     "metadata": {},
     "output_type": "execute_result"
    }
   ],
   "source": [
    "list_contains_round([27, 28, 29, 35, 36], 29)"
   ]
  },
  {
   "cell_type": "code",
   "execution_count": 78,
   "id": "2b3388cc-f328-4fef-97c6-7638c6f39c80",
   "metadata": {},
   "outputs": [],
   "source": [
    "#task 5\n",
    "def card_average(hand):\n",
    "    \"\"\"\n",
    "\n",
    "    :param hand: list - cards in hand.\n",
    "    :return:  float - average value of the cards in the hand.\n",
    "    \"\"\"\n",
    "    total_sum=0\n",
    "    for i in hand:\n",
    "        total_sum += i\n",
    "    return total_sum/len(hand)"
   ]
  },
  {
   "cell_type": "code",
   "execution_count": 79,
   "id": "851cfd14-bd20-41a4-a5c0-9381af2a3868",
   "metadata": {},
   "outputs": [
    {
     "data": {
      "text/plain": [
       "6.0"
      ]
     },
     "execution_count": 79,
     "metadata": {},
     "output_type": "execute_result"
    }
   ],
   "source": [
    "card_average([5, 6, 7])"
   ]
  },
  {
   "cell_type": "code",
   "execution_count": 80,
   "id": "fb45aa6b-cd18-4228-99ac-6c334f9e1cc5",
   "metadata": {},
   "outputs": [],
   "source": [
    "#task 6\n",
    "def approx_average_is_average(hand):\n",
    "    \"\"\"\n",
    "\n",
    "    :param hand: list - cards in hand.\n",
    "    :return: bool - is approximate average the same as true average?\n",
    "    \"\"\"\n",
    "    mean_first_last = (hand[0] + hand[-1])/2\n",
    "    if card_average(hand) == mean_first_last:\n",
    "        return True\n",
    "    else:\n",
    "        return False"
   ]
  },
  {
   "cell_type": "code",
   "execution_count": 82,
   "id": "63c92950-f933-454c-a3e6-7aea90258d53",
   "metadata": {},
   "outputs": [
    {
     "data": {
      "text/plain": [
       "False"
      ]
     },
     "execution_count": 82,
     "metadata": {},
     "output_type": "execute_result"
    }
   ],
   "source": [
    "approx_average_is_average([1, 2, 3, 5, 9])"
   ]
  },
  {
   "cell_type": "code",
   "execution_count": 1,
   "id": "5b5bad18-9ffb-49f1-b8af-c4e3d78bae6a",
   "metadata": {
    "execution": {
     "iopub.execute_input": "2021-09-08T13:23:05.010648Z",
     "iopub.status.busy": "2021-09-08T13:23:05.009650Z",
     "iopub.status.idle": "2021-09-08T13:23:05.041563Z",
     "shell.execute_reply": "2021-09-08T13:23:05.041563Z",
     "shell.execute_reply.started": "2021-09-08T13:23:05.010648Z"
    }
   },
   "outputs": [],
   "source": [
    "#task 7\n",
    "def average_even_is_average_odd(hand):\n",
    "    \"\"\"\n",
    "\n",
    "    :param hand: list - cards in hand.\n",
    "    :return: bool - are even and odd averages equal?\n",
    "    \"\"\"\n",
    "    even_list = []\n",
    "    odd_list = []\n",
    "    for i in range(len(hand)):\n",
    "        if i % 2 == 0:\n",
    "            even_list.append(hand[i])\n",
    "        else:\n",
    "            odd_list.append(hand[i])\n",
    "            \n",
    "    if card_average(even_list) == card_average(odd_list):\n",
    "        return True\n",
    "    else:\n",
    "        return False"
   ]
  },
  {
   "cell_type": "code",
   "execution_count": 99,
   "id": "93b0bd3a-50f7-4723-9c5c-34822e633308",
   "metadata": {},
   "outputs": [
    {
     "data": {
      "text/plain": [
       "True"
      ]
     },
     "execution_count": 99,
     "metadata": {},
     "output_type": "execute_result"
    }
   ],
   "source": [
    "average_even_is_average_odd([1, 2, 3])"
   ]
  },
  {
   "cell_type": "code",
   "execution_count": 100,
   "id": "0923504c-1683-461e-9bd5-ad0382a3d72b",
   "metadata": {},
   "outputs": [],
   "source": [
    "#task 8\n",
    "def maybe_double_last(hand):\n",
    "    \"\"\"\n",
    "\n",
    "    :param hand: list - cards in hand.\n",
    "    :return: list - hand with Jacks (if present) value doubled.\n",
    "    \"\"\"\n",
    "\n",
    "    if hand[-1] == 11:\n",
    "        hand[-1] = hand[-1]*2\n",
    "    \n",
    "    return hand"
   ]
  },
  {
   "cell_type": "code",
   "execution_count": 101,
   "id": "e7c34e85-4bae-433d-a88a-18c810c07c54",
   "metadata": {},
   "outputs": [
    {
     "data": {
      "text/plain": [
       "[5, 9, 22]"
      ]
     },
     "execution_count": 101,
     "metadata": {},
     "output_type": "execute_result"
    }
   ],
   "source": [
    "hand = [5, 9, 11]\n",
    "maybe_double_last(hand)"
   ]
  },
  {
   "cell_type": "markdown",
   "id": "85f3a158-1b48-4342-9237-6287afcdd85a",
   "metadata": {
    "jp-MarkdownHeadingCollapsed": true,
    "tags": []
   },
   "source": [
    "### Resistor Color - List - Solved"
   ]
  },
  {
   "cell_type": "code",
   "execution_count": null,
   "id": "c666cab2-e3cc-4f32-b586-46fd77c10427",
   "metadata": {},
   "outputs": [],
   "source": [
    "def color_code(color):\n",
    "    colors_list = colors()\n",
    "    return colors_list.index(color)\n",
    "\n",
    "\n",
    "def colors():\n",
    "    return [\n",
    "        \"black\",\n",
    "        \"brown\",\n",
    "        \"red\",\n",
    "        \"orange\",\n",
    "        \"yellow\",\n",
    "        \"green\",\n",
    "        \"blue\",\n",
    "        \"violet\",\n",
    "        \"grey\",\n",
    "        \"white\"\n",
    "    ]"
   ]
  },
  {
   "cell_type": "markdown",
   "id": "81fc931b-b5cf-49b1-9cd9-bea0eb10cd5f",
   "metadata": {
    "jp-MarkdownHeadingCollapsed": true,
    "tags": []
   },
   "source": [
    "### Little Sister's Essay - Strings Solved"
   ]
  },
  {
   "cell_type": "code",
   "execution_count": 3,
   "id": "b98e3916-5ee4-4b83-aedc-e5fd60017031",
   "metadata": {},
   "outputs": [],
   "source": [
    "#task 1\n",
    "def capitalize_title(title):\n",
    "    \"\"\"\n",
    "\n",
    "    :param title: str title string that needs title casing\n",
    "    :return:  str title string in title case (first letters capitalized)\n",
    "    \"\"\"\n",
    "    return title.title()\n",
    "    "
   ]
  },
  {
   "cell_type": "code",
   "execution_count": 4,
   "id": "c16e7e95-b194-4daa-90e2-96d4681177df",
   "metadata": {},
   "outputs": [
    {
     "data": {
      "text/plain": [
       "'My Hobbies'"
      ]
     },
     "execution_count": 4,
     "metadata": {},
     "output_type": "execute_result"
    }
   ],
   "source": [
    "capitalize_title(\"my hobbies\")"
   ]
  },
  {
   "cell_type": "code",
   "execution_count": 9,
   "id": "5eca1335-2bea-49fc-ab5a-f2092b555818",
   "metadata": {},
   "outputs": [],
   "source": [
    "#task 2\n",
    "def check_sentence_ending(sentence):\n",
    "    \"\"\"\n",
    "\n",
    "    :param sentence: str a sentence to check.\n",
    "    :return:  bool True if punctuated correctly with period, False otherwise.\n",
    "    \"\"\"\n",
    "\n",
    "    return sentence.endswith('.')"
   ]
  },
  {
   "cell_type": "code",
   "execution_count": 10,
   "id": "699608be-c4cd-4639-877d-f12e8cbf53ab",
   "metadata": {},
   "outputs": [
    {
     "data": {
      "text/plain": [
       "True"
      ]
     },
     "execution_count": 10,
     "metadata": {},
     "output_type": "execute_result"
    }
   ],
   "source": [
    "check_sentence_ending(\"I like to hike, bake, and read.\")"
   ]
  },
  {
   "cell_type": "code",
   "execution_count": 13,
   "id": "d0c5913a-e52e-4fc5-81f1-33b1bf1a4977",
   "metadata": {},
   "outputs": [],
   "source": [
    "#task3\n",
    "def clean_up_spacing(sentence):\n",
    "    \"\"\"\n",
    "\n",
    "    :param sentence: str a sentence to clean of leading and trailing space characters.\n",
    "    :return: str a sentence that has been cleaned of leading and trailing space characters.\n",
    "    \"\"\"\n",
    "\n",
    "    return sentence.strip(' ')"
   ]
  },
  {
   "cell_type": "code",
   "execution_count": 14,
   "id": "dc521552-f488-4b40-a2e3-3a2f0be6a8dc",
   "metadata": {},
   "outputs": [
    {
     "data": {
      "text/plain": [
       "'I like to go on hikes with my dog.'"
      ]
     },
     "execution_count": 14,
     "metadata": {},
     "output_type": "execute_result"
    }
   ],
   "source": [
    "clean_up_spacing(\" I like to go on hikes with my dog.  \")"
   ]
  },
  {
   "cell_type": "code",
   "execution_count": 15,
   "id": "f1359300-10e9-468a-aaef-ad8dec59fda4",
   "metadata": {},
   "outputs": [],
   "source": [
    "#task 4\n",
    "def replace_word_choice(sentence, old_word, new_word):\n",
    "    \"\"\"\n",
    "\n",
    "    :param sentence: str a sentence to replace words in.\n",
    "    :param new_word: str replacement word\n",
    "    :param old_word: str word to replace\n",
    "    :return:  str input sentence with new words in place of old words\n",
    "    \"\"\"\n",
    "\n",
    "    return sentence.replace(old_word,new_word)"
   ]
  },
  {
   "cell_type": "code",
   "execution_count": 16,
   "id": "1d41b14d-bb21-4ddd-88eb-1eb85cff03d1",
   "metadata": {},
   "outputs": [
    {
     "data": {
      "text/plain": [
       "'I bake amazing cakes.'"
      ]
     },
     "execution_count": 16,
     "metadata": {},
     "output_type": "execute_result"
    }
   ],
   "source": [
    "replace_word_choice(\"I bake good cakes.\", \"good\", \"amazing\")"
   ]
  },
  {
   "cell_type": "markdown",
   "id": "ce336a9b-a1b5-4744-a139-ea0605d5885e",
   "metadata": {
    "jp-MarkdownHeadingCollapsed": true,
    "tags": []
   },
   "source": [
    "### Bob - Conditional - not solved"
   ]
  },
  {
   "cell_type": "code",
   "execution_count": 23,
   "id": "1d1fe5cf-d6b8-4a41-abfb-027b415d03e0",
   "metadata": {
    "execution": {
     "iopub.execute_input": "2021-09-08T14:05:14.223681Z",
     "iopub.status.busy": "2021-09-08T14:05:14.223681Z",
     "iopub.status.idle": "2021-09-08T14:05:14.234690Z",
     "shell.execute_reply": "2021-09-08T14:05:14.234690Z",
     "shell.execute_reply.started": "2021-09-08T14:05:14.223681Z"
    },
    "tags": []
   },
   "outputs": [],
   "source": [
    "def response(hey_bob):\n",
    "    if not hey_bob.strip():\n",
    "        return \"Fine. Be that way!\"\n",
    "    elif hey_bob.isupper():\n",
    "        return 'Whoa, chill out!'\n",
    "    elif hey_bob.endswith('?') and hey_bob.strip():\n",
    "        return 'Sure.'\n",
    "    elif hey_bob.endswith('?'):\n",
    "        if hey_bob == hey_bob.upper():\n",
    "            return \"Calm down, I know what I'm doing!\"\n",
    "        return 'Whoa, chill out!'\n",
    "    else:\n",
    "        return 'Whatever.'"
   ]
  },
  {
   "cell_type": "code",
   "execution_count": 24,
   "id": "117d5e74-ba74-4ff5-bf6b-46b3057ca053",
   "metadata": {
    "execution": {
     "iopub.execute_input": "2021-09-08T14:05:19.953098Z",
     "iopub.status.busy": "2021-09-08T14:05:19.952099Z",
     "iopub.status.idle": "2021-09-08T14:05:19.963108Z",
     "shell.execute_reply": "2021-09-08T14:05:19.963108Z",
     "shell.execute_reply.started": "2021-09-08T14:05:19.953098Z"
    },
    "tags": []
   },
   "outputs": [
    {
     "data": {
      "text/plain": [
       "'Whatever.'"
      ]
     },
     "execution_count": 24,
     "metadata": {},
     "output_type": "execute_result"
    }
   ],
   "source": [
    "response(\"asdsadsa?  \")"
   ]
  },
  {
   "cell_type": "markdown",
   "id": "ec79f247-8202-440b-a5cd-f37b867a966f",
   "metadata": {
    "jp-MarkdownHeadingCollapsed": true,
    "tags": []
   },
   "source": [
    "### Chaitana's Colossal Coaster - List Methods - Solved"
   ]
  },
  {
   "cell_type": "code",
   "execution_count": 27,
   "id": "29a5f888-40a8-44c3-bd00-5a17e8743fde",
   "metadata": {
    "execution": {
     "iopub.execute_input": "2021-09-08T14:10:40.705199Z",
     "iopub.status.busy": "2021-09-08T14:10:40.704239Z",
     "iopub.status.idle": "2021-09-08T14:10:40.723149Z",
     "shell.execute_reply": "2021-09-08T14:10:40.723149Z",
     "shell.execute_reply.started": "2021-09-08T14:10:40.705199Z"
    },
    "tags": []
   },
   "outputs": [],
   "source": [
    "#task 1\n",
    "def add_me_to_the_queue(express_queue, normal_queue, ticket_type, person_name):\n",
    "    \"\"\"\n",
    "\n",
    "    :param express_queue: list - names in the Fast-track queue.\n",
    "    :param normal_queue:  list - names in the normal queue.\n",
    "    :param ticket_type:  int - type of ticket. 1 = express, 0 = normal.\n",
    "    :param person_name: str - name of person to add to a queue.\n",
    "    :return: list - the (updated) queue the name was added to.\n",
    "    \"\"\"\n",
    "    if ticket_type == 1:\n",
    "        express_queue.append(person_name)\n",
    "        return express_queue\n",
    "    else:\n",
    "        normal_queue.append(person_name)\n",
    "        return normal_queue\n",
    "        "
   ]
  },
  {
   "cell_type": "code",
   "execution_count": 29,
   "id": "e812c836-144a-4b89-8ac7-15153b7b492e",
   "metadata": {
    "execution": {
     "iopub.execute_input": "2021-09-08T14:10:54.308490Z",
     "iopub.status.busy": "2021-09-08T14:10:54.308490Z",
     "iopub.status.idle": "2021-09-08T14:10:54.317428Z",
     "shell.execute_reply": "2021-09-08T14:10:54.316430Z",
     "shell.execute_reply.started": "2021-09-08T14:10:54.308490Z"
    },
    "tags": []
   },
   "outputs": [
    {
     "data": {
      "text/plain": [
       "['RobotGuy', 'WW', 'HawkEye']"
      ]
     },
     "execution_count": 29,
     "metadata": {},
     "output_type": "execute_result"
    }
   ],
   "source": [
    "add_me_to_the_queue(express_queue=[\"Tony\", \"Bruce\"], normal_queue=[\"RobotGuy\", \"WW\"], ticket_type=0, person_name=\"HawkEye\")"
   ]
  },
  {
   "cell_type": "code",
   "execution_count": 32,
   "id": "66cf4cc9-6f21-4442-9054-55196a703c1b",
   "metadata": {
    "execution": {
     "iopub.execute_input": "2021-09-08T14:13:12.708131Z",
     "iopub.status.busy": "2021-09-08T14:13:12.708131Z",
     "iopub.status.idle": "2021-09-08T14:13:12.715112Z",
     "shell.execute_reply": "2021-09-08T14:13:12.714115Z",
     "shell.execute_reply.started": "2021-09-08T14:13:12.708131Z"
    },
    "tags": []
   },
   "outputs": [],
   "source": [
    "#task 2\n",
    "def find_my_friend(queue, friend_name):\n",
    "    \"\"\"\n",
    "\n",
    "    :param queue: list - names in the queue.\n",
    "    :param friend_name: str - name of friend to find.\n",
    "    :return: int - index at which the friends name was found.\n",
    "    \"\"\"\n",
    "    return queue.index(friend_name)"
   ]
  },
  {
   "cell_type": "code",
   "execution_count": 33,
   "id": "15cf627a-c6a9-45c7-9553-79258a06359e",
   "metadata": {
    "execution": {
     "iopub.execute_input": "2021-09-08T14:13:13.167224Z",
     "iopub.status.busy": "2021-09-08T14:13:13.166227Z",
     "iopub.status.idle": "2021-09-08T14:13:13.176161Z",
     "shell.execute_reply": "2021-09-08T14:13:13.175164Z",
     "shell.execute_reply.started": "2021-09-08T14:13:13.167224Z"
    },
    "tags": []
   },
   "outputs": [
    {
     "data": {
      "text/plain": [
       "1"
      ]
     },
     "execution_count": 33,
     "metadata": {},
     "output_type": "execute_result"
    }
   ],
   "source": [
    "find_my_friend(queue=[\"Natasha\", \"Steve\", \"T'challa\", \"Wanda\", \"Rocket\"], friend_name=\"Steve\")"
   ]
  },
  {
   "cell_type": "code",
   "execution_count": 36,
   "id": "3d092b8d-8491-4e9c-86d1-b23dc8249fd1",
   "metadata": {
    "execution": {
     "iopub.execute_input": "2021-09-08T14:15:33.194526Z",
     "iopub.status.busy": "2021-09-08T14:15:33.194526Z",
     "iopub.status.idle": "2021-09-08T14:15:33.207491Z",
     "shell.execute_reply": "2021-09-08T14:15:33.206534Z",
     "shell.execute_reply.started": "2021-09-08T14:15:33.194526Z"
    },
    "tags": []
   },
   "outputs": [],
   "source": [
    "#task 3\n",
    "def add_me_with_my_friends(queue, index, person_name):\n",
    "    \"\"\"\n",
    "\n",
    "    :param queue: list - names in the queue.\n",
    "    :param index: int - the index at which to add the new name.\n",
    "    :param person_name: str - the name to add.\n",
    "    :return: list - queue updated with new name.\n",
    "    \"\"\"\n",
    "    queue.insert(index,person_name)\n",
    "    return queue"
   ]
  },
  {
   "cell_type": "code",
   "execution_count": 37,
   "id": "2d39e79a-bf86-4d5e-a3bf-9434bdfa3df7",
   "metadata": {
    "execution": {
     "iopub.execute_input": "2021-09-08T14:15:33.641199Z",
     "iopub.status.busy": "2021-09-08T14:15:33.641199Z",
     "iopub.status.idle": "2021-09-08T14:15:33.652167Z",
     "shell.execute_reply": "2021-09-08T14:15:33.651170Z",
     "shell.execute_reply.started": "2021-09-08T14:15:33.641199Z"
    },
    "tags": []
   },
   "outputs": [
    {
     "data": {
      "text/plain": [
       "['Natasha', 'Bucky', 'Steve', \"T'challa\", 'Wanda', 'Rocket']"
      ]
     },
     "execution_count": 37,
     "metadata": {},
     "output_type": "execute_result"
    }
   ],
   "source": [
    "add_me_with_my_friends(queue=[\"Natasha\", \"Steve\", \"T'challa\", \"Wanda\", \"Rocket\"], index=1, person_name=\"Bucky\")"
   ]
  },
  {
   "cell_type": "code",
   "execution_count": 38,
   "id": "322c5ada-8b26-4625-ba71-d848684c9e05",
   "metadata": {
    "execution": {
     "iopub.execute_input": "2021-09-08T14:16:36.462684Z",
     "iopub.status.busy": "2021-09-08T14:16:36.461686Z",
     "iopub.status.idle": "2021-09-08T14:16:36.482630Z",
     "shell.execute_reply": "2021-09-08T14:16:36.481635Z",
     "shell.execute_reply.started": "2021-09-08T14:16:36.462684Z"
    }
   },
   "outputs": [],
   "source": [
    "#task 4\n",
    "def remove_the_mean_person(queue, person_name):\n",
    "    \"\"\"\n",
    "\n",
    "    :param queue: list - names in the queue.\n",
    "    :param person_name: str - name of mean person.\n",
    "    :return:  list - queue update with the mean persons name removed.\n",
    "    \"\"\"\n",
    "    queue.remove(person_name)\n",
    "    return queue"
   ]
  },
  {
   "cell_type": "code",
   "execution_count": 39,
   "id": "34af39b0-a383-4786-815b-1827a1f4272e",
   "metadata": {
    "execution": {
     "iopub.execute_input": "2021-09-08T14:16:44.488850Z",
     "iopub.status.busy": "2021-09-08T14:16:44.488850Z",
     "iopub.status.idle": "2021-09-08T14:16:44.509794Z",
     "shell.execute_reply": "2021-09-08T14:16:44.508836Z",
     "shell.execute_reply.started": "2021-09-08T14:16:44.488850Z"
    }
   },
   "outputs": [
    {
     "data": {
      "text/plain": [
       "['Natasha', 'Steve', 'Wanda', 'Rocket']"
      ]
     },
     "execution_count": 39,
     "metadata": {},
     "output_type": "execute_result"
    }
   ],
   "source": [
    "remove_the_mean_person(queue=[\"Natasha\", \"Steve\", \"Eltran\", \"Wanda\", \"Rocket\"], person_name=\"Eltran\")"
   ]
  },
  {
   "cell_type": "code",
   "execution_count": 40,
   "id": "75ee389e-c752-4c4c-8c6e-15bde5d5231a",
   "metadata": {
    "execution": {
     "iopub.execute_input": "2021-09-08T14:17:51.946974Z",
     "iopub.status.busy": "2021-09-08T14:17:51.945977Z",
     "iopub.status.idle": "2021-09-08T14:17:51.957947Z",
     "shell.execute_reply": "2021-09-08T14:17:51.957947Z",
     "shell.execute_reply.started": "2021-09-08T14:17:51.946974Z"
    }
   },
   "outputs": [],
   "source": [
    "#task 5\n",
    "def how_many_namefellows(queue, person_name):\n",
    "    \"\"\"\n",
    "\n",
    "    :param queue: list - names in the queue.\n",
    "    :param person_name: str - name you wish to count or track.\n",
    "    :return:  int - the number of times the name appears in the queue.\n",
    "    \"\"\"\n",
    "    return queue.count(person_name)"
   ]
  },
  {
   "cell_type": "code",
   "execution_count": 41,
   "id": "c9cd216a-14a2-42fe-aa5d-0b9c0396d83b",
   "metadata": {
    "execution": {
     "iopub.execute_input": "2021-09-08T14:17:58.186995Z",
     "iopub.status.busy": "2021-09-08T14:17:58.185998Z",
     "iopub.status.idle": "2021-09-08T14:17:58.207976Z",
     "shell.execute_reply": "2021-09-08T14:17:58.207976Z",
     "shell.execute_reply.started": "2021-09-08T14:17:58.186995Z"
    }
   },
   "outputs": [
    {
     "data": {
      "text/plain": [
       "2"
      ]
     },
     "execution_count": 41,
     "metadata": {},
     "output_type": "execute_result"
    }
   ],
   "source": [
    "how_many_namefellows(queue=[\"Natasha\", \"Steve\", \"Eltran\", \"Natasha\", \"Rocket\"], person_name=\"Natasha\")"
   ]
  },
  {
   "cell_type": "code",
   "execution_count": 43,
   "id": "31b9c017-bac7-4216-bf1c-6e38ba99c7d1",
   "metadata": {
    "execution": {
     "iopub.execute_input": "2021-09-08T14:19:50.355848Z",
     "iopub.status.busy": "2021-09-08T14:19:50.355848Z",
     "iopub.status.idle": "2021-09-08T14:19:50.361832Z",
     "shell.execute_reply": "2021-09-08T14:19:50.360834Z",
     "shell.execute_reply.started": "2021-09-08T14:19:50.355848Z"
    },
    "tags": []
   },
   "outputs": [],
   "source": [
    "#task 6\n",
    "def remove_the_last_person(queue):\n",
    "    \"\"\"\n",
    "\n",
    "    :param queue: list - names in the queue.\n",
    "    :return: str - name that has been removed from the end of the queue.\n",
    "    \"\"\"\n",
    "    last_person = queue[-1]\n",
    "    queue.remove(last_person)\n",
    "    return last_person"
   ]
  },
  {
   "cell_type": "code",
   "execution_count": 44,
   "id": "d1c89557-68aa-4bd5-95fe-fabace613986",
   "metadata": {
    "execution": {
     "iopub.execute_input": "2021-09-08T14:19:55.458748Z",
     "iopub.status.busy": "2021-09-08T14:19:55.458748Z",
     "iopub.status.idle": "2021-09-08T14:19:55.473708Z",
     "shell.execute_reply": "2021-09-08T14:19:55.472709Z",
     "shell.execute_reply.started": "2021-09-08T14:19:55.458748Z"
    }
   },
   "outputs": [
    {
     "data": {
      "text/plain": [
       "'Rocket'"
      ]
     },
     "execution_count": 44,
     "metadata": {},
     "output_type": "execute_result"
    }
   ],
   "source": [
    "remove_the_last_person(queue=[\"Natasha\", \"Steve\", \"Eltran\", \"Natasha\", \"Rocket\"])"
   ]
  },
  {
   "cell_type": "code",
   "execution_count": 45,
   "id": "e772b0c6-259f-443c-9f73-7bba8144bd52",
   "metadata": {
    "execution": {
     "iopub.execute_input": "2021-09-08T14:20:58.890171Z",
     "iopub.status.busy": "2021-09-08T14:20:58.890171Z",
     "iopub.status.idle": "2021-09-08T14:20:58.909120Z",
     "shell.execute_reply": "2021-09-08T14:20:58.908122Z",
     "shell.execute_reply.started": "2021-09-08T14:20:58.890171Z"
    }
   },
   "outputs": [],
   "source": [
    "def sorted_names(queue):\n",
    "    \"\"\"\n",
    "\n",
    "    :param queue: list - names in the queue.\n",
    "    :return: list - copy of the queue in alphabetical order.\n",
    "    \"\"\"\n",
    "    return sorted(queue)"
   ]
  },
  {
   "cell_type": "code",
   "execution_count": 46,
   "id": "91699900-2402-4c5b-a2da-5695b96a51a2",
   "metadata": {
    "execution": {
     "iopub.execute_input": "2021-09-08T14:21:12.851865Z",
     "iopub.status.busy": "2021-09-08T14:21:12.851865Z",
     "iopub.status.idle": "2021-09-08T14:21:12.867670Z",
     "shell.execute_reply": "2021-09-08T14:21:12.867670Z",
     "shell.execute_reply.started": "2021-09-08T14:21:12.851865Z"
    }
   },
   "outputs": [
    {
     "data": {
      "text/plain": [
       "['Eltran', 'Natasha', 'Natasha', 'Rocket', 'Steve']"
      ]
     },
     "execution_count": 46,
     "metadata": {},
     "output_type": "execute_result"
    }
   ],
   "source": [
    "sorted_names(queue=[\"Natasha\", \"Steve\", \"Eltran\", \"Natasha\", \"Rocket\"])"
   ]
  },
  {
   "cell_type": "markdown",
   "id": "51b3b10c-158b-43b0-85cc-f20a05b45472",
   "metadata": {
    "jp-MarkdownHeadingCollapsed": true,
    "tags": []
   },
   "source": [
    "### High Scores - List - Solved"
   ]
  },
  {
   "cell_type": "code",
   "execution_count": 1,
   "id": "d8aaa767-008f-476b-9b25-67a3caada97b",
   "metadata": {
    "execution": {
     "iopub.execute_input": "2021-09-13T17:56:03.722744Z",
     "iopub.status.busy": "2021-09-13T17:56:03.721707Z",
     "iopub.status.idle": "2021-09-13T17:56:03.750629Z",
     "shell.execute_reply": "2021-09-13T17:56:03.749634Z",
     "shell.execute_reply.started": "2021-09-13T17:56:03.722744Z"
    }
   },
   "outputs": [],
   "source": [
    "def latest(scores):\n",
    "    return scores[-1]"
   ]
  },
  {
   "cell_type": "code",
   "execution_count": 2,
   "id": "1dddc1f6-c315-4b47-993e-2d817c2613be",
   "metadata": {
    "execution": {
     "iopub.execute_input": "2021-09-13T17:56:25.315323Z",
     "iopub.status.busy": "2021-09-13T17:56:25.314327Z",
     "iopub.status.idle": "2021-09-13T17:56:25.337266Z",
     "shell.execute_reply": "2021-09-13T17:56:25.337266Z",
     "shell.execute_reply.started": "2021-09-13T17:56:25.315323Z"
    }
   },
   "outputs": [
    {
     "data": {
      "text/plain": [
       "30"
      ]
     },
     "execution_count": 2,
     "metadata": {},
     "output_type": "execute_result"
    }
   ],
   "source": [
    "scores = [100, 0, 90, 30]\n",
    "latest(scores)"
   ]
  },
  {
   "cell_type": "code",
   "execution_count": 5,
   "id": "8a7911b4-400a-4ca8-8fbd-2f2a13538d18",
   "metadata": {
    "execution": {
     "iopub.execute_input": "2021-09-13T17:57:13.792952Z",
     "iopub.status.busy": "2021-09-13T17:57:13.791912Z",
     "iopub.status.idle": "2021-09-13T17:57:13.808866Z",
     "shell.execute_reply": "2021-09-13T17:57:13.807907Z",
     "shell.execute_reply.started": "2021-09-13T17:57:13.792952Z"
    },
    "tags": []
   },
   "outputs": [],
   "source": [
    "def personal_best(scores):\n",
    "    return max(scores)"
   ]
  },
  {
   "cell_type": "code",
   "execution_count": 6,
   "id": "6244886e-025b-4d99-8875-78a1c500f3a1",
   "metadata": {
    "execution": {
     "iopub.execute_input": "2021-09-13T17:57:14.295298Z",
     "iopub.status.busy": "2021-09-13T17:57:14.294258Z",
     "iopub.status.idle": "2021-09-13T17:57:14.316200Z",
     "shell.execute_reply": "2021-09-13T17:57:14.316200Z",
     "shell.execute_reply.started": "2021-09-13T17:57:14.295298Z"
    },
    "tags": []
   },
   "outputs": [
    {
     "data": {
      "text/plain": [
       "100"
      ]
     },
     "execution_count": 6,
     "metadata": {},
     "output_type": "execute_result"
    }
   ],
   "source": [
    "scores = [40, 100, 70]\n",
    "personal_best(scores)"
   ]
  },
  {
   "cell_type": "code",
   "execution_count": 19,
   "id": "94753306-21c5-431b-86e4-ed4f46791ab3",
   "metadata": {
    "execution": {
     "iopub.execute_input": "2021-09-13T17:59:03.634826Z",
     "iopub.status.busy": "2021-09-13T17:59:03.633829Z",
     "iopub.status.idle": "2021-09-13T17:59:03.643803Z",
     "shell.execute_reply": "2021-09-13T17:59:03.643803Z",
     "shell.execute_reply.started": "2021-09-13T17:59:03.633829Z"
    },
    "tags": []
   },
   "outputs": [],
   "source": [
    "def personal_top_three(scores):\n",
    "    return sorted(scores,reverse=True)[:3]"
   ]
  },
  {
   "cell_type": "code",
   "execution_count": 20,
   "id": "06bec30b-80a6-4ca8-84c2-e8850597d412",
   "metadata": {
    "execution": {
     "iopub.execute_input": "2021-09-13T17:59:03.890359Z",
     "iopub.status.busy": "2021-09-13T17:59:03.889362Z",
     "iopub.status.idle": "2021-09-13T17:59:03.909309Z",
     "shell.execute_reply": "2021-09-13T17:59:03.908375Z",
     "shell.execute_reply.started": "2021-09-13T17:59:03.890359Z"
    },
    "tags": []
   },
   "outputs": [
    {
     "data": {
      "text/plain": [
       "[100, 90, 70]"
      ]
     },
     "execution_count": 20,
     "metadata": {},
     "output_type": "execute_result"
    }
   ],
   "source": [
    "scores = [10, 30, 90, 30, 100, 20, 10, 0, 30, 40, 40, 70, 70]\n",
    "personal_top_three(scores)"
   ]
  },
  {
   "cell_type": "markdown",
   "id": "3fafc46f-d9e1-4d55-aa80-a9f3bba01cc1",
   "metadata": {
    "jp-MarkdownHeadingCollapsed": true,
    "tags": []
   },
   "source": [
    "### Making the Grade - Loops- Solved"
   ]
  },
  {
   "cell_type": "code",
   "execution_count": 62,
   "id": "1027d57b-ab08-496f-8e11-6e2664924bde",
   "metadata": {
    "execution": {
     "iopub.execute_input": "2021-09-13T18:08:59.709904Z",
     "iopub.status.busy": "2021-09-13T18:08:59.709904Z",
     "iopub.status.idle": "2021-09-13T18:08:59.724865Z",
     "shell.execute_reply": "2021-09-13T18:08:59.723906Z",
     "shell.execute_reply.started": "2021-09-13T18:08:59.709904Z"
    },
    "tags": []
   },
   "outputs": [],
   "source": [
    "#task1 \n",
    "def round_scores(student_scores):\n",
    "    \"\"\"\n",
    "    :param student_scores: list of student exam scores as float or int.\n",
    "    :return: list of student scores *rounded* to nearest integer value.\n",
    "    \"\"\"\n",
    "    scores = []\n",
    "    for score in student_scores:\n",
    "        scores.append(round(score))\n",
    "    return scores"
   ]
  },
  {
   "cell_type": "code",
   "execution_count": 63,
   "id": "f56244fa-4ab3-46cb-9323-d795adc7d3af",
   "metadata": {
    "execution": {
     "iopub.execute_input": "2021-09-13T18:09:00.060923Z",
     "iopub.status.busy": "2021-09-13T18:09:00.060923Z",
     "iopub.status.idle": "2021-09-13T18:09:00.069898Z",
     "shell.execute_reply": "2021-09-13T18:09:00.068901Z",
     "shell.execute_reply.started": "2021-09-13T18:09:00.060923Z"
    },
    "tags": []
   },
   "outputs": [
    {
     "data": {
      "text/plain": [
       "[90, 40, 55, 70, 31, 25, 80, 95, 39, 40]"
      ]
     },
     "execution_count": 63,
     "metadata": {},
     "output_type": "execute_result"
    }
   ],
   "source": [
    "student_scores = [90.33, 40.5, 55.44, 70.05, 30.55, 25.45, 80.45, 95.3, 38.7, 40.3]\n",
    "round_scores(student_scores)"
   ]
  },
  {
   "cell_type": "code",
   "execution_count": 72,
   "id": "4e3f225c-3058-40aa-915e-78a4ac2f8ae8",
   "metadata": {
    "execution": {
     "iopub.execute_input": "2021-09-13T18:12:22.389684Z",
     "iopub.status.busy": "2021-09-13T18:12:22.389684Z",
     "iopub.status.idle": "2021-09-13T18:12:22.394674Z",
     "shell.execute_reply": "2021-09-13T18:12:22.394674Z",
     "shell.execute_reply.started": "2021-09-13T18:12:22.389684Z"
    },
    "tags": []
   },
   "outputs": [],
   "source": [
    "#task2\n",
    "def count_failed_students(student_scores):\n",
    "    \"\"\"\n",
    "    :param student_scores: list of integer student scores.\n",
    "    :return: integer count of student scores at or below 40.\n",
    "    \"\"\"\n",
    "    fails = []\n",
    "    for score in student_scores:\n",
    "        if score <= 40:\n",
    "            fails.append(score)\n",
    "        \n",
    "    return len(fails)\n",
    "        "
   ]
  },
  {
   "cell_type": "code",
   "execution_count": 73,
   "id": "7b1dee70-6812-4633-b7bf-d31be666e1ea",
   "metadata": {
    "execution": {
     "iopub.execute_input": "2021-09-13T18:12:22.699496Z",
     "iopub.status.busy": "2021-09-13T18:12:22.699496Z",
     "iopub.status.idle": "2021-09-13T18:12:23.456707Z",
     "shell.execute_reply": "2021-09-13T18:12:23.455705Z",
     "shell.execute_reply.started": "2021-09-13T18:12:22.699496Z"
    },
    "tags": []
   },
   "outputs": [
    {
     "data": {
      "text/plain": [
       "5"
      ]
     },
     "execution_count": 73,
     "metadata": {},
     "output_type": "execute_result"
    }
   ],
   "source": [
    "count_failed_students(student_scores=[90,40,55,70,30,25,80,95,38,40])\n"
   ]
  },
  {
   "cell_type": "code",
   "execution_count": 74,
   "id": "d00405a2-beef-4e35-ae7e-767f00276982",
   "metadata": {
    "execution": {
     "iopub.execute_input": "2021-09-13T18:14:18.093415Z",
     "iopub.status.busy": "2021-09-13T18:14:18.093415Z",
     "iopub.status.idle": "2021-09-13T18:14:18.105381Z",
     "shell.execute_reply": "2021-09-13T18:14:18.105381Z",
     "shell.execute_reply.started": "2021-09-13T18:14:18.093415Z"
    }
   },
   "outputs": [],
   "source": [
    "#task3\n",
    "def above_threshold(student_scores, threshold):\n",
    "    \"\"\"\n",
    "    :param student_scores: list of integer scores\n",
    "    :param threshold :  integer\n",
    "    :return: list of integer scores that are at or above the \"best\" threshold.\n",
    "    \"\"\"\n",
    "    best_scores = []\n",
    "    for score in student_scores:\n",
    "        if score >= threshold:\n",
    "            best_scores.append(score)\n",
    "    return best_scores"
   ]
  },
  {
   "cell_type": "code",
   "execution_count": 75,
   "id": "792af11c-a5f8-4f7f-9e59-1e752b3c672b",
   "metadata": {
    "execution": {
     "iopub.execute_input": "2021-09-13T18:14:18.245837Z",
     "iopub.status.busy": "2021-09-13T18:14:18.245837Z",
     "iopub.status.idle": "2021-09-13T18:14:18.263787Z",
     "shell.execute_reply": "2021-09-13T18:14:18.262789Z",
     "shell.execute_reply.started": "2021-09-13T18:14:18.245837Z"
    }
   },
   "outputs": [
    {
     "data": {
      "text/plain": [
       "[90, 75, 83, 96]"
      ]
     },
     "execution_count": 75,
     "metadata": {},
     "output_type": "execute_result"
    }
   ],
   "source": [
    "above_threshold(student_scores=[90,40,55,70,30,68,70,75,83,96], threshold=75)"
   ]
  },
  {
   "cell_type": "code",
   "execution_count": null,
   "id": "864b5cbe-8094-4cb6-bb3b-5aa4ca5ba7d4",
   "metadata": {},
   "outputs": [],
   "source": [
    "#task4\n",
    "def letter_grades(highest):\n",
    "    ''' Finds the list of thresholds for letter grades according to hhighest possible score. '''\n",
    "    increment = int((highest - 40) // 4)\n",
    "    return [ 41 + (increment * i) for i in range(4)]"
   ]
  },
  {
   "cell_type": "code",
   "execution_count": null,
   "id": "19149805-4364-409a-8eda-455df2fef57f",
   "metadata": {},
   "outputs": [],
   "source": [
    "letter_grades(highest=100)"
   ]
  },
  {
   "cell_type": "code",
   "execution_count": 149,
   "id": "a7240249-a2f0-4989-9ac0-2188cb22c55d",
   "metadata": {
    "execution": {
     "iopub.execute_input": "2021-09-13T18:32:03.150615Z",
     "iopub.status.busy": "2021-09-13T18:32:03.150615Z",
     "iopub.status.idle": "2021-09-13T18:32:03.168568Z",
     "shell.execute_reply": "2021-09-13T18:32:03.168568Z",
     "shell.execute_reply.started": "2021-09-13T18:32:03.150615Z"
    },
    "tags": []
   },
   "outputs": [],
   "source": [
    "#task5\n",
    "def student_ranking(student_scores, student_names):\n",
    "    \"\"\"\n",
    "     :param student_scores: list of scores in descending order.\n",
    "     :param student_names: list of names in descending order by exam score.\n",
    "     :return: list of strings in format [\"<rank>. <student name>: <score>\"].\n",
    "     \"\"\"\n",
    "    return [ f\"{rank+1}. {student}: {score}\" for rank, student, score in zip(range(len(student_scores)), student_names, student_scores)]"
   ]
  },
  {
   "cell_type": "code",
   "execution_count": 150,
   "id": "fa0e14fd-76ed-42df-9606-ebd793c72192",
   "metadata": {
    "execution": {
     "iopub.execute_input": "2021-09-13T18:32:03.417645Z",
     "iopub.status.busy": "2021-09-13T18:32:03.416648Z",
     "iopub.status.idle": "2021-09-13T18:32:03.482093Z",
     "shell.execute_reply": "2021-09-13T18:32:03.480099Z",
     "shell.execute_reply.started": "2021-09-13T18:32:03.417645Z"
    },
    "tags": []
   },
   "outputs": [
    {
     "data": {
      "text/plain": [
       "['1. Joci: 100',\n",
       " '2. Sara: 99',\n",
       " '3. Kora: 90',\n",
       " '4. Jan: 84',\n",
       " '5. John: 66',\n",
       " '6. Bern: 53',\n",
       " '7. Fred: 47']"
      ]
     },
     "execution_count": 150,
     "metadata": {},
     "output_type": "execute_result"
    }
   ],
   "source": [
    "student_scores = [100, 99, 90, 84, 66, 53, 47]\n",
    "student_names =  ['Joci', 'Sara','Kora','Jan','John','Bern', 'Fred']\n",
    "student_ranking(student_scores, student_names)"
   ]
  },
  {
   "cell_type": "code",
   "execution_count": 147,
   "id": "4ff1da55-b3a9-435f-9916-9ecead142392",
   "metadata": {
    "execution": {
     "iopub.execute_input": "2021-09-13T18:29:28.396100Z",
     "iopub.status.busy": "2021-09-13T18:29:28.396100Z",
     "iopub.status.idle": "2021-09-13T18:29:28.416003Z",
     "shell.execute_reply": "2021-09-13T18:29:28.416003Z",
     "shell.execute_reply.started": "2021-09-13T18:29:28.396100Z"
    },
    "tags": []
   },
   "outputs": [],
   "source": [
    "#task6\n",
    "def perfect_score(student_info):\n",
    "    \"\"\"\n",
    "    :param student_info: list of [<student name>, <score>] lists\n",
    "    :return: First [<student name>, 100] found OR \"No perfect score.\"\n",
    "    \"\"\"\n",
    "    for name, score in student_info:\n",
    "        if score == 100:\n",
    "            return [name,score]\n",
    "    return \"No perfect score.\" "
   ]
  },
  {
   "cell_type": "code",
   "execution_count": 148,
   "id": "e5b0bc4a-f509-4b04-9392-0cc929f3784c",
   "metadata": {
    "execution": {
     "iopub.execute_input": "2021-09-13T18:29:28.747612Z",
     "iopub.status.busy": "2021-09-13T18:29:28.746615Z",
     "iopub.status.idle": "2021-09-13T18:29:28.761571Z",
     "shell.execute_reply": "2021-09-13T18:29:28.761571Z",
     "shell.execute_reply.started": "2021-09-13T18:29:28.747612Z"
    },
    "tags": []
   },
   "outputs": [
    {
     "data": {
      "text/plain": [
       "['Alex', 100]"
      ]
     },
     "execution_count": 148,
     "metadata": {},
     "output_type": "execute_result"
    }
   ],
   "source": [
    "perfect_score(student_info=[[\"Charles\", 90], [\"Tony\", 80], [\"Alex\", 100]])"
   ]
  },
  {
   "cell_type": "markdown",
   "id": "4ac16b8c-9324-4c49-aff5-219984867ff4",
   "metadata": {
    "jp-MarkdownHeadingCollapsed": true,
    "tags": []
   },
   "source": [
    "### Collatz Conjecture - Numbers - Solved"
   ]
  },
  {
   "cell_type": "code",
   "execution_count": 195,
   "id": "7d86cd85-5298-48e4-aa35-8b04dc48ac5d",
   "metadata": {
    "execution": {
     "iopub.execute_input": "2021-09-13T18:52:57.868303Z",
     "iopub.status.busy": "2021-09-13T18:52:57.868303Z",
     "iopub.status.idle": "2021-09-13T18:52:57.884259Z",
     "shell.execute_reply": "2021-09-13T18:52:57.883259Z",
     "shell.execute_reply.started": "2021-09-13T18:52:57.868303Z"
    },
    "tags": []
   },
   "outputs": [],
   "source": [
    "def steps(number):\n",
    "    steps = 0\n",
    "    if number <= 0:\n",
    "        raise ValueError('positive numbers')\n",
    "    while(number != 1):\n",
    "        if number % 2 == 0:\n",
    "            number = number/2\n",
    "        else:\n",
    "            number = number*3 + 1\n",
    "        steps += 1\n",
    "            \n",
    "    return steps\n",
    "    "
   ]
  },
  {
   "cell_type": "code",
   "execution_count": 196,
   "id": "14ba3e51-4fb4-4b84-9e2b-c0d684990210",
   "metadata": {
    "execution": {
     "iopub.execute_input": "2021-09-13T18:52:58.142272Z",
     "iopub.status.busy": "2021-09-13T18:52:58.141271Z",
     "iopub.status.idle": "2021-09-13T18:52:59.108392Z",
     "shell.execute_reply": "2021-09-13T18:52:59.107439Z",
     "shell.execute_reply.started": "2021-09-13T18:52:58.142272Z"
    },
    "tags": []
   },
   "outputs": [
    {
     "data": {
      "text/plain": [
       "9"
      ]
     },
     "execution_count": 196,
     "metadata": {},
     "output_type": "execute_result"
    }
   ],
   "source": [
    "steps(12)"
   ]
  },
  {
   "cell_type": "markdown",
   "id": "33e9d399-b2f7-494c-a398-182825f2fb44",
   "metadata": {},
   "source": [
    "### Prime Factors - Numbers"
   ]
  }
 ],
 "metadata": {
  "kernelspec": {
   "display_name": "Python 3 (ipykernel)",
   "language": "python",
   "name": "python3"
  },
  "language_info": {
   "codemirror_mode": {
    "name": "ipython",
    "version": 3
   },
   "file_extension": ".py",
   "mimetype": "text/x-python",
   "name": "python",
   "nbconvert_exporter": "python",
   "pygments_lexer": "ipython3",
   "version": "3.9.6"
  },
  "toc-autonumbering": false,
  "toc-showcode": false,
  "toc-showmarkdowntxt": false,
  "toc-showtags": false
 },
 "nbformat": 4,
 "nbformat_minor": 5
}
